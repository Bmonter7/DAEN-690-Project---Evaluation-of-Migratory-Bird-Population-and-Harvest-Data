{
  "nbformat": 4,
  "nbformat_minor": 0,
  "metadata": {
    "colab": {
      "provenance": [],
      "include_colab_link": true
    },
    "kernelspec": {
      "name": "python3",
      "display_name": "Python 3"
    },
    "language_info": {
      "name": "python"
    }
  },
  "cells": [
    {
      "cell_type": "markdown",
      "metadata": {
        "id": "view-in-github",
        "colab_type": "text"
      },
      "source": [
        "<a href=\"https://colab.research.google.com/github/gjrsas/DAEN690/blob/main/WildDucksDAEN690.ipynb\" target=\"_parent\"><img src=\"https://colab.research.google.com/assets/colab-badge.svg\" alt=\"Open In Colab\"/></a>"
      ]
    },
    {
      "cell_type": "code",
      "execution_count": 1,
      "metadata": {
        "id": "Ffis6Nndcyx3",
        "colab": {
          "base_uri": "https://localhost:8080/"
        },
        "outputId": "50358f6b-b9c4-4314-ac6c-96cfb143bee1"
      },
      "outputs": [
        {
          "output_type": "stream",
          "name": "stderr",
          "text": [
            "<ipython-input-1-1836aa73208a>:11: DtypeWarning: Columns (2) have mixed types. Specify dtype option on import or set low_memory=False.\n",
            "  df = pd.read_csv(url)\n"
          ]
        },
        {
          "output_type": "stream",
          "name": "stdout",
          "text": [
            "Dataset is now stored in a Pandas Dataframe\n"
          ]
        }
      ],
      "source": [
        "# @title\n",
        "from google.colab import files\n",
        "from google.colab import drive\n",
        "import pandas as pd\n",
        "import numpy as np\n",
        "import matplotlib.pyplot as plt\n",
        "\n",
        "#File stored in GitHub LFS\n",
        "url = 'https://github.com/gjrsas/DAEN690/raw/main/Data/WingData.csv'\n",
        "\n",
        "df = pd.read_csv(url)\n",
        "print('Dataset is now stored in a Pandas Dataframe')"
      ]
    },
    {
      "cell_type": "code",
      "source": [
        "# Print the head of the dataframe\n",
        "print(df.head(5))"
      ],
      "metadata": {
        "colab": {
          "base_uri": "https://localhost:8080/"
        },
        "id": "A0A3dqUhfvNa",
        "outputId": "677650e5-4f63-4ff8-984e-f849c9736734"
      },
      "execution_count": 2,
      "outputs": [
        {
          "output_type": "stream",
          "name": "stdout",
          "text": [
            "       PartID  Season PCSHunterID  harvest_month  harvest_day  harvest_year  \\\n",
            "0  1961100001    1961      135114           11.0         19.0          1961   \n",
            "1  1961100002    1961      135752           10.0         29.0          1961   \n",
            "2  1961100003    1961      120501           10.0         18.0          1961   \n",
            "3  1961100004    1961      131336           12.0         23.0          1961   \n",
            "4  1961100005    1961      132184           11.0         14.0          1961   \n",
            "\n",
            "   flyway_code      flyway_name flyway_abbrev  state_code  ... state  \\\n",
            "0            1  Atlantic Flyway            AF          87  ...   VT    \n",
            "1            1  Atlantic Flyway            AF          61  ...   NY    \n",
            "2            1  Atlantic Flyway            AF          61  ...   NY    \n",
            "3            1  Atlantic Flyway            AF          61  ...   NY    \n",
            "4            1  Atlantic Flyway            AF          72  ...   PA    \n",
            "\n",
            "  AOU_number  species_aou            species_name age_code  age_char sex_code  \\\n",
            "0       1290         COME        Common Merganser        2         I        0   \n",
            "1       1290         COME        Common Merganser        2         I        0   \n",
            "2       1300         RBME  Red-Breasted Merganser        0         U        0   \n",
            "3       1300         RBME  Red-Breasted Merganser        1         A        4   \n",
            "4       1300         RBME  Red-Breasted Merganser        2         I        0   \n",
            "\n",
            "   sex_char            cohort harvest_weight  \n",
            "0         U  Immature Unknown          30.28  \n",
            "1         U  Immature Unknown          49.32  \n",
            "2         U   Unknown Unknown          45.26  \n",
            "3         M        Adult Male         135.85  \n",
            "4         U  Immature Unknown         148.81  \n",
            "\n",
            "[5 rows x 21 columns]\n"
          ]
        }
      ]
    },
    {
      "cell_type": "code",
      "source": [
        "# Print the tail of the dataframe\n",
        "print(df.tail(5))"
      ],
      "metadata": {
        "colab": {
          "base_uri": "https://localhost:8080/"
        },
        "id": "nWYUIQVTcAyE",
        "outputId": "74bdcc2a-7066-4257-faac-59e7ea7dad5e"
      },
      "execution_count": 3,
      "outputs": [
        {
          "output_type": "stream",
          "name": "stdout",
          "text": [
            "             PartID  Season PCSHunterID  harvest_month  harvest_day  \\\n",
            "5900715  2022054121    2022    38320077            9.0         10.0   \n",
            "5900716  2022054122    2022    DDDDDDDD            NaN          NaN   \n",
            "5900717  2022054123    2022    DDDDDDDD            NaN          NaN   \n",
            "5900718  2022054124    2022    DDDDDDDD            NaN          NaN   \n",
            "5900719  2022054125    2022    DDDDDDDD            NaN          NaN   \n",
            "\n",
            "         harvest_year  flyway_code      flyway_name flyway_abbrev  state_code  \\\n",
            "5900715          2022            3   Central Flyway            CF          83   \n",
            "5900716          2022            1  Atlantic Flyway            AF          46   \n",
            "5900717          2022            1  Atlantic Flyway            AF          47   \n",
            "5900718          2022            1  Atlantic Flyway            AF          63   \n",
            "5900719          2022            4   Pacific Flyway            PF          89   \n",
            "\n",
            "         ... state AOU_number  species_aou                species_name  \\\n",
            "5900715  ...   TX        1390         AGWT  American Green-Winged Teal   \n",
            "5900716  ...   MD        1730         ATBR              Atlantic Brant   \n",
            "5900717  ...   MA        1730         ATBR              Atlantic Brant   \n",
            "5900718  ...   NC        1730         ATBR              Atlantic Brant   \n",
            "5900719  ...   WA        1740         BLBR                 Black Brant   \n",
            "\n",
            "        age_code  age_char sex_code  sex_char           cohort harvest_weight  \n",
            "5900715        0         U        0         U  Unknown Unknown       325.2904  \n",
            "5900716        0         U        0         U  Unknown Unknown       102.5359  \n",
            "5900717        0         U        0         U  Unknown Unknown       224.3588  \n",
            "5900718        0         U        0         U  Unknown Unknown       118.4496  \n",
            "5900719        0         U        0         U  Unknown Unknown       139.2360  \n",
            "\n",
            "[5 rows x 21 columns]\n"
          ]
        }
      ]
    },
    {
      "cell_type": "code",
      "source": [
        "df.shape"
      ],
      "metadata": {
        "colab": {
          "base_uri": "https://localhost:8080/"
        },
        "id": "ktW4VR-sdZe7",
        "outputId": "18054452-ef25-4daf-e02c-a45c6e9c003a"
      },
      "execution_count": 4,
      "outputs": [
        {
          "output_type": "execute_result",
          "data": {
            "text/plain": [
              "(5900720, 21)"
            ]
          },
          "metadata": {},
          "execution_count": 4
        }
      ]
    },
    {
      "cell_type": "code",
      "source": [
        "# Find unique values in the 'Season' column\n",
        "unique_values = df['Season'].unique()\n",
        "print(unique_values)"
      ],
      "metadata": {
        "colab": {
          "base_uri": "https://localhost:8080/"
        },
        "id": "KJCjwRDkdpmc",
        "outputId": "09202f12-ddd8-43c5-b153-c59d4421f4bb"
      },
      "execution_count": 5,
      "outputs": [
        {
          "output_type": "stream",
          "name": "stdout",
          "text": [
            "[1961 1962 1963 1964 1965 1966 1967 1968 1969 1970 1971 1972 1973 1974\n",
            " 1975 1976 1977 1978 1979 1980 1981 1982 1983 1984 1985 1986 1987 1988\n",
            " 1989 1990 1991 1992 1993 1994 1995 1996 1997 1998 1999 2000 2001 2002\n",
            " 2003 2004 2005 2006 2007 2008 2009 2010 2011 2012 2013 2014 2015 2016\n",
            " 2017 2018 2019 2020 2021 2022]\n"
          ]
        }
      ]
    },
    {
      "cell_type": "code",
      "source": [
        "df.dtypes\n"
      ],
      "metadata": {
        "colab": {
          "base_uri": "https://localhost:8080/"
        },
        "id": "Vq936AnrecNz",
        "outputId": "aca395ea-553c-464e-b2e5-5d49eb5650a6"
      },
      "execution_count": 6,
      "outputs": [
        {
          "output_type": "execute_result",
          "data": {
            "text/plain": [
              "PartID              int64\n",
              "Season              int64\n",
              "PCSHunterID        object\n",
              "harvest_month     float64\n",
              "harvest_day       float64\n",
              "harvest_year        int64\n",
              "flyway_code         int64\n",
              "flyway_name        object\n",
              "flyway_abbrev      object\n",
              "state_code          int64\n",
              "state_name         object\n",
              "state              object\n",
              "AOU_number          int64\n",
              "species_aou        object\n",
              "species_name       object\n",
              "age_code            int64\n",
              "age_char           object\n",
              "sex_code            int64\n",
              "sex_char           object\n",
              "cohort             object\n",
              "harvest_weight    float64\n",
              "dtype: object"
            ]
          },
          "metadata": {},
          "execution_count": 6
        }
      ]
    },
    {
      "cell_type": "code",
      "source": [
        "df['flyway_name'].value_counts()"
      ],
      "metadata": {
        "colab": {
          "base_uri": "https://localhost:8080/"
        },
        "id": "tauH-S7mi8db",
        "outputId": "0abe3a28-4a89-4298-fd7f-2303077be48b"
      },
      "execution_count": 7,
      "outputs": [
        {
          "output_type": "execute_result",
          "data": {
            "text/plain": [
              "Mississippi Flyway    1693723\n",
              "Pacific Flyway        1531094\n",
              "Central Flyway        1330593\n",
              "Atlantic Flyway       1279675\n",
              "Alaska                  65635\n",
              "Name: flyway_name, dtype: int64"
            ]
          },
          "metadata": {},
          "execution_count": 7
        }
      ]
    },
    {
      "cell_type": "code",
      "source": [
        "df['species_name'].value_counts()"
      ],
      "metadata": {
        "colab": {
          "base_uri": "https://localhost:8080/"
        },
        "id": "VGZX2jSTjPJc",
        "outputId": "b912504f-49ca-4c50-a4ce-84cb8ccebcf5"
      },
      "execution_count": 8,
      "outputs": [
        {
          "output_type": "execute_result",
          "data": {
            "text/plain": [
              "Mallard                         1735530\n",
              "Canada Goose                     668028\n",
              "American Green-Winged Teal       584542\n",
              "Wood Duck                        418875\n",
              "Gadwall                          342894\n",
              "Blue-Winged/Cinnamon Teal        324762\n",
              "American Wigeon                  313765\n",
              "Northern Pintail                 267702\n",
              "Northern Shoveler                176599\n",
              "Ring-Necked Duck                 176488\n",
              "American Black Duck              152644\n",
              "Lesser Scaup                     120417\n",
              "Snow Goose (white)                95594\n",
              "Bufflehead                        80212\n",
              "Redhead                           59794\n",
              "Common Goldeneye                  41218\n",
              "Snow Goose (blue)                 35258\n",
              "Greater White-Fronted Goose       33844\n",
              "Greater Scaup                     33226\n",
              "Canvasback                        31199\n",
              "Hooded Merganser                  30381\n",
              "American Coot                     25027\n",
              "Mottled Duck                      24365\n",
              "Ruddy Duck                        18818\n",
              "Atlantic Brant                    12692\n",
              "Common Eider                      11187\n",
              "Red-Breasted Merganser            10215\n",
              "Surf Scoter                       10038\n",
              "Common Merganser                   9142\n",
              "White-Winged Scoter                7962\n",
              "Mallard X Black Duck Hybrid        7817\n",
              "Ross' Goose                        7450\n",
              "Long-Tailed Duck                   7197\n",
              "Mallard (Domestic)                 6508\n",
              "Black Scoter                       5249\n",
              "Barrow's Goldeneye                 3239\n",
              "Black Brant                        2809\n",
              "Black-Bellied Whistling Duck       1806\n",
              "Mexican-like Duck                  1619\n",
              "Fulvous Whistling Duck              814\n",
              "Miscellaneous Hybrid                681\n",
              "Harlequin Duck                      438\n",
              "Eurasian Wigeon                     372\n",
              "Emperor Goose                       260\n",
              "Miscellaneous Goose                 136\n",
              "Muscovy                             129\n",
              "Miscellaneous Duck                   74\n",
              "King Eider                           44\n",
              "Steller's Eider                      41\n",
              "Common Moorhen                       35\n",
              "Masked Duck                           1\n",
              "Name: species_name, dtype: int64"
            ]
          },
          "metadata": {},
          "execution_count": 8
        }
      ]
    },
    {
      "cell_type": "code",
      "source": [
        "# Show the number of null values by column\n",
        "null_values_count = df.isnull().sum()\n",
        "print(null_values_count)"
      ],
      "metadata": {
        "colab": {
          "base_uri": "https://localhost:8080/"
        },
        "id": "Z-UyA6Yxoc-k",
        "outputId": "6302201c-71d2-413f-dc1e-52f143064d56"
      },
      "execution_count": 9,
      "outputs": [
        {
          "output_type": "stream",
          "name": "stdout",
          "text": [
            "PartID                0\n",
            "Season                0\n",
            "PCSHunterID        7065\n",
            "harvest_month     74730\n",
            "harvest_day       94043\n",
            "harvest_year          0\n",
            "flyway_code           0\n",
            "flyway_name           0\n",
            "flyway_abbrev         0\n",
            "state_code            0\n",
            "state_name            0\n",
            "state                 0\n",
            "AOU_number            0\n",
            "species_aou        1583\n",
            "species_name       1583\n",
            "age_code              0\n",
            "age_char              0\n",
            "sex_code              0\n",
            "sex_char              0\n",
            "cohort                0\n",
            "harvest_weight        0\n",
            "dtype: int64\n"
          ]
        }
      ]
    },
    {
      "cell_type": "code",
      "source": [
        "# Replace NaN or NA values in harvest_month and harvest_day with 0\n",
        "#df['harvest_day'] = df['harvest_day'].fillna(0)\n",
        "#df['harvest_month'] = df['harvest_month'].fillna(0)"
      ],
      "metadata": {
        "id": "hJuo6fQjpQum"
      },
      "execution_count": 10,
      "outputs": []
    },
    {
      "cell_type": "code",
      "source": [
        "df['harvest_year'].unique()"
      ],
      "metadata": {
        "colab": {
          "base_uri": "https://localhost:8080/"
        },
        "id": "g44X338ZqJP1",
        "outputId": "aeb2e504-c3d7-452b-e618-54b23cacd9eb"
      },
      "execution_count": 11,
      "outputs": [
        {
          "output_type": "execute_result",
          "data": {
            "text/plain": [
              "array([1961, 1962, 1963, 1964, 1965, 1966, 1967, 1968, 1969, 1970, 1971,\n",
              "       1972, 1973, 1974, 1975, 1976, 1977, 1978, 1979, 1980, 1981, 1982,\n",
              "       1983, 1984, 1985, 1986, 1987, 1988, 1989, 1990, 1991, 1992, 1993,\n",
              "       1994, 1995, 1996, 1997, 1998, 1999, 2000, 2001, 2002, 2003, 2004,\n",
              "       2005, 2006, 2007, 2008, 2009, 2010, 2011, 2012, 2013, 2014, 2015,\n",
              "       2016, 2017, 2018, 2019, 2020, 2021, 2022, 2023])"
            ]
          },
          "metadata": {},
          "execution_count": 11
        }
      ]
    },
    {
      "cell_type": "code",
      "source": [
        "# Filter rows where any of the date components are missing\n",
        "df_filtered = df.dropna(subset=['harvest_day', 'harvest_month', 'harvest_year'])\n",
        "df_filtered = df_filtered[(df_filtered['harvest_day'] != 0) &\n",
        "                          (df_filtered['harvest_month'] != 0) &\n",
        "                          (df_filtered['harvest_year'] != 0)]\n",
        "df_filtered = df_filtered.copy()\n",
        "\n",
        "#convert harvest_month and harvest_day to integers\n",
        "\n",
        "df_filtered.loc[:, 'harvest_day'] = df_filtered['harvest_day'].astype(int)\n",
        "df_filtered.loc[:, 'harvest_month'] = df_filtered['harvest_month'].astype(int)\n",
        "df_filtered.loc[:, 'harvest_year'] = df_filtered['harvest_year'].astype(int)"
      ],
      "metadata": {
        "colab": {
          "base_uri": "https://localhost:8080/"
        },
        "id": "2lIYLtJ2pkQW",
        "outputId": "ecc7a76b-1f33-4541-c3b9-c7910c7613fb"
      },
      "execution_count": 12,
      "outputs": [
        {
          "output_type": "stream",
          "name": "stderr",
          "text": [
            "<ipython-input-12-c8b6b0d90848>:10: DeprecationWarning: In a future version, `df.iloc[:, i] = newvals` will attempt to set the values inplace instead of always setting a new array. To retain the old behavior, use either `df[df.columns[i]] = newvals` or, if columns are non-unique, `df.isetitem(i, newvals)`\n",
            "  df_filtered.loc[:, 'harvest_day'] = df_filtered['harvest_day'].astype(int)\n",
            "<ipython-input-12-c8b6b0d90848>:11: DeprecationWarning: In a future version, `df.iloc[:, i] = newvals` will attempt to set the values inplace instead of always setting a new array. To retain the old behavior, use either `df[df.columns[i]] = newvals` or, if columns are non-unique, `df.isetitem(i, newvals)`\n",
            "  df_filtered.loc[:, 'harvest_month'] = df_filtered['harvest_month'].astype(int)\n"
          ]
        }
      ]
    },
    {
      "cell_type": "code",
      "source": [
        "df_filtered['harvest_day'].unique()"
      ],
      "metadata": {
        "colab": {
          "base_uri": "https://localhost:8080/"
        },
        "id": "ZCTFt_WptkP9",
        "outputId": "f1fed65d-fa9a-4f12-9685-00a10709fb1e"
      },
      "execution_count": 13,
      "outputs": [
        {
          "output_type": "execute_result",
          "data": {
            "text/plain": [
              "array([19, 29, 18, 23, 14, 24,  2,  9, 30, 20, 15, 17, 21, 26, 27, 11, 22,\n",
              "        5, 13,  3, 16, 25, 10,  4,  1, 28, 12,  6, 31,  7,  8])"
            ]
          },
          "metadata": {},
          "execution_count": 13
        }
      ]
    },
    {
      "cell_type": "code",
      "source": [
        "# Combine the three columns into a single column in datetime format for rows without missing values\n",
        "df_filtered['harvest_date'] = pd.to_datetime({\n",
        "    'year': df_filtered['harvest_year'],\n",
        "    'month': df_filtered['harvest_month'],\n",
        "    'day': df_filtered['harvest_day']\n",
        "})"
      ],
      "metadata": {
        "id": "o0RtRSMIsiD0"
      },
      "execution_count": 14,
      "outputs": []
    },
    {
      "cell_type": "code",
      "source": [
        "# Combine the processed rows back with the original dataframe, keeping all original rows\n",
        "df = df.merge(df_filtered[['harvest_date']], left_index=True, right_index=True, how='left')"
      ],
      "metadata": {
        "id": "oxGbimUWtUwV"
      },
      "execution_count": 15,
      "outputs": []
    },
    {
      "cell_type": "code",
      "source": [
        "# Count the number of data points per year\n",
        "data_points_per_year = df['harvest_year'].value_counts().sort_index()\n",
        "\n",
        "# Create a bar plot\n",
        "plt.figure(figsize=(10, 6))\n",
        "plt.bar(data_points_per_year.index, data_points_per_year.values, color='skyblue')\n",
        "plt.title('Number of Data Points per Year')\n",
        "plt.xlabel('Year')\n",
        "plt.ylabel('Number of Data Points')\n",
        "plt.xticks(ticks=range(data_points_per_year.index.min(), data_points_per_year.index.max() + 1, 4),\n",
        "           labels=range(data_points_per_year.index.min(), data_points_per_year.index.max() + 1, 4),\n",
        "           rotation=45)\n",
        "plt.grid(axis='y', linestyle='--', alpha=0.7)\n",
        "plt.tight_layout()\n",
        "plt.show()"
      ],
      "metadata": {
        "colab": {
          "base_uri": "https://localhost:8080/",
          "height": 607
        },
        "id": "13jjifnYus9b",
        "outputId": "dfac4978-f6af-4c46-ac09-7ecfce911e1b"
      },
      "execution_count": 16,
      "outputs": [
        {
          "output_type": "display_data",
          "data": {
            "text/plain": [
              "<Figure size 1000x600 with 1 Axes>"
            ],
            "image/png": "[encoded data removed]"
          },
          "metadata": {}
        }
      ]
    },
    {
      "cell_type": "markdown",
      "source": [
        "Species code \"DUCK\" includes certain AOU codes (n=19) consistent with the waterfowl status report for total ducks\n",
        "  aou codes: 1330,1390,1370,1510,1520,1519,1530,1400,1470,1350,1480,1490,1499,1320,1430,1420,1460,1500,1670\n",
        "  aou codes alpha: 'ABDU','AGWT','AMWI','COGO','BAGO','GOLD','BUFF','BWTE','CANV','GADW','GRSC','LESC','SCAU','MALL','NOPI','NSHO','REDH','RNDU','RUDU'\n"
      ],
      "metadata": {
        "id": "evhqY8EiHXtU"
      }
    },
    {
      "cell_type": "code",
      "source": [
        "# List of duck species codes\n",
        "duck_species = ['ABDU', 'AGWT', 'AMWI', 'COGO', 'BAGO', 'GOLD', 'BUFF', 'BWTE', 'CANV', 'GADW',\n",
        "                'GRSC', 'LESC', 'SCAU', 'MALL', 'NOPI', 'NSHO', 'REDH', 'RNDU', 'RUDU']\n",
        "\n",
        "# Create new variable 'is_duck'\n",
        "df['is_duck'] = df['species_aou'].apply(lambda x: 1 if x in duck_species else 0)\n",
        "df['is_duck'].value_counts()"
      ],
      "metadata": {
        "colab": {
          "base_uri": "https://localhost:8080/"
        },
        "id": "hBFi79xaGGnC",
        "outputId": "94d403ab-958c-4158-f8aa-a61506dd47e6"
      },
      "execution_count": 17,
      "outputs": [
        {
          "output_type": "execute_result",
          "data": {
            "text/plain": [
              "1    4138287\n",
              "0    1762433\n",
              "Name: is_duck, dtype: int64"
            ]
          },
          "metadata": {},
          "execution_count": 17
        }
      ]
    },
    {
      "cell_type": "code",
      "source": [
        "unique_duck_species_names = df[df['is_duck'] == 1]['species_name'].unique()\n",
        "print(unique_duck_species_names)"
      ],
      "metadata": {
        "colab": {
          "base_uri": "https://localhost:8080/"
        },
        "id": "squYt4OSJaEO",
        "outputId": "3747c578-feba-4960-a967-56daef7b02a9"
      },
      "execution_count": 18,
      "outputs": [
        {
          "output_type": "stream",
          "name": "stdout",
          "text": [
            "['Mallard' 'American Black Duck' 'Gadwall' 'American Wigeon'\n",
            " 'American Green-Winged Teal' 'Northern Shoveler' 'Northern Pintail'\n",
            " 'Redhead' 'Canvasback' 'Greater Scaup' 'Lesser Scaup' 'Ring-Necked Duck'\n",
            " 'Common Goldeneye' 'Bufflehead' 'Ruddy Duck' \"Barrow's Goldeneye\"]\n"
          ]
        }
      ]
    },
    {
      "cell_type": "markdown",
      "source": [
        "According to https://www.pwrc.usgs.gov/BBL/Bander_Portal/login/speclist.php AOU Species table, 'aou_number' = 1722 corresponds to 'species_aou' = 'MCGO' and 'species_name' = 'Minima Cackling Goose'"
      ],
      "metadata": {
        "id": "LTdUudtEMaaO"
      }
    },
    {
      "cell_type": "code",
      "source": [
        "# Update 'species_aou' and 'species_name' where 'aou_number' equals 1722\n",
        "df.loc[df['AOU_number'] == 1722, ['species_aou', 'species_name']] = 'MCGO', 'Minima Cackling Goose'"
      ],
      "metadata": {
        "id": "PQ07hHe3MQpE"
      },
      "execution_count": 19,
      "outputs": []
    },
    {
      "cell_type": "markdown",
      "source": [
        "# New Section"
      ],
      "metadata": {
        "id": "zO80OgjHONnF"
      }
    },
    {
      "cell_type": "code",
      "source": [
        "# Filter for Atlantic Flyway from 1999-2021 for all Ducks\n",
        "atlantic_df = df[\n",
        "    (df['flyway_name'] == 'Atlantic Flyway') &\n",
        "    (df['is_duck'] == 1) &\n",
        "    (df['harvest_year'] >= 1999) &\n",
        "    (df['harvest_year'] <= 2021)\n",
        "]\n",
        "\n",
        "# Round the harvest_weight to the nearest hundred for Atlantic Flyway\n",
        "atlantic_df['harvest_weight'] = np.round(atlantic_df['harvest_weight'], -2)\n",
        "\n",
        "# Aggregate harvest_weight by year for the Atlantic Flyway\n",
        "atlantic_totals = atlantic_df.groupby(['harvest_year', 'state'])['harvest_weight'].sum().reset_index()\n",
        "# Convert harvest_weight to integers\n",
        "atlantic_totals['harvest_weight'] = atlantic_totals['harvest_weight'].astype(int)\n",
        "#create pivot tables\n",
        "atlantic_pivot = atlantic_totals.pivot(index='harvest_year', columns='state', values='harvest_weight').fillna(0)\n",
        "\n",
        "# Define a function to sum harvest weights by year for a specified flyway\n",
        "def sum_harvest_by_flyway(flyway_name):\n",
        "    flyway_df = df[\n",
        "        (df['flyway_name'] == flyway_name) &\n",
        "        (df['is_duck'] == 1) &\n",
        "        (df['harvest_year'] >= 1999) &\n",
        "        (df['harvest_year'] <= 2021)\n",
        "    ].copy()\n",
        "\n",
        "    flyway_df['harvest_weight'] = np.round(flyway_df['harvest_weight'], -2)\n",
        "    yearly_sum = flyway_df.groupby('harvest_year')['harvest_weight'].sum().astype(int)\n",
        "\n",
        "    return yearly_sum\n",
        "\n",
        "# Sum harvest weights for each flyway\n",
        "af_totals = sum_harvest_by_flyway('Atlantic Flyway').astype(int)\n",
        "mf_totals = sum_harvest_by_flyway('Mississippi Flyway').astype(int)\n",
        "pf_totals = sum_harvest_by_flyway('Pacific Flyway').astype(int)\n",
        "cf_totals = sum_harvest_by_flyway('Central Flyway').astype(int)\n",
        "\n",
        "# Merge the totals with the Atlantic Flyway DataFrame\n",
        "atlantic_pivot['AF'] = af_totals\n",
        "atlantic_pivot['MF'] = mf_totals\n",
        "atlantic_pivot['PF'] = pf_totals\n",
        "atlantic_pivot['CF'] = cf_totals\n",
        "\n",
        "# Fill missing values with 0\n",
        "atlantic_pivot.fillna(0, inplace=True)\n",
        "\n",
        "# Define the time periods for which you want to calculate averages\n",
        "time_periods = {\n",
        "    '1999-2000': (1999, 2000),\n",
        "    '2001-05': (2001, 2005),\n",
        "    '2006-10': (2006, 2010),\n",
        "    '2011-15': (2011, 2015),\n",
        "    '2016-20': (2016, 2020)\n",
        "}\n",
        "\n",
        "# Ensure 'harvest_year' is a column\n",
        "atlantic_pivot.reset_index(inplace=True)\n",
        "\n",
        "# Sort the data by year first (numeric only)\n",
        "atlantic_pivot['harvest_year'] = atlantic_pivot['harvest_year'].astype(str)\n",
        "numeric_years = atlantic_pivot[atlantic_pivot['harvest_year'].str.isnumeric()].copy()\n",
        "numeric_years['harvest_year'] = numeric_years['harvest_year'].astype(int)\n",
        "numeric_years.sort_values(by='harvest_year', inplace=True)\n",
        "\n",
        "# Calculate averages for each time period and create a DataFrame for them\n",
        "averages_rows = []\n",
        "for label, (start_year, end_year) in time_periods.items():\n",
        "    # Select the data for the time period\n",
        "    period_data = numeric_years[(numeric_years['harvest_year'] >= start_year) & (numeric_years['harvest_year'] <= end_year)]\n",
        "\n",
        "    # Calculate the mean for each column\n",
        "    averages = period_data.mean().round(0).astype(int)  # Round to 0 decimal places\n",
        "    averages['harvest_year'] = label  # Set the label for the averages row\n",
        "    averages_rows.append(averages)\n",
        "\n",
        "# Convert the averages list of series to a DataFrame\n",
        "averages_df = pd.DataFrame(averages_rows)\n",
        "\n",
        "# Concatenate the yearly data with the averages, placing averages after 2021\n",
        "final_df = pd.concat([numeric_years, averages_df], ignore_index=True)\n",
        "\n",
        "# Save the result to a CSV file\n",
        "final_df.to_csv('All_ducks.csv', index=False)\n",
        "\n",
        "# Display the DataFrame\n",
        "print(final_df.tail(15))  # Show the last 15 rows to include all averages and the 2021 data"
      ],
      "metadata": {
        "colab": {
          "base_uri": "https://localhost:8080/"
        },
        "id": "TEdxI23DOMVk",
        "outputId": "2ed573d2-76d7-47b8-820f-a4ce95cbcaae"
      },
      "execution_count": 28,
      "outputs": [
        {
          "output_type": "stream",
          "name": "stderr",
          "text": [
            "<ipython-input-28-d373afa210c2>:10: SettingWithCopyWarning: \n",
            "A value is trying to be set on a copy of a slice from a DataFrame.\n",
            "Try using .loc[row_indexer,col_indexer] = value instead\n",
            "\n",
            "See the caveats in the documentation: https://pandas.pydata.org/pandas-docs/stable/user_guide/indexing.html#returning-a-view-versus-a-copy\n",
            "  atlantic_df['harvest_weight'] = np.round(atlantic_df['harvest_weight'], -2)\n"
          ]
        },
        {
          "output_type": "stream",
          "name": "stdout",
          "text": [
            "state harvest_year    CT     DE      FL     GA     MA      MD     ME      NC   \\\n",
            "13            2012      0  40700  134600  64400   6800  106600  29200  211100   \n",
            "14            2013      0  39600  123000  50000      0   97500  32600  228500   \n",
            "15            2014      0  37300  104700  29400      0   80900  23800  236000   \n",
            "16            2015      0  28900   88400  31300      0   74200    400  204800   \n",
            "17            2016      0  40900   93600  46800      0   79800      0  265400   \n",
            "18            2017      0  40600   68500  35000      0   86500      0  173500   \n",
            "19            2018  14500  40800   62700  35400      0  114400  37900  219300   \n",
            "20            2019   3500  24300   64300  25200  16800   93700   1200  219800   \n",
            "21            2020      0  35000   73200  18000   5600   92300  29800  138800   \n",
            "22            2021      0  30000   60300  40400      0   75600  36500  162200   \n",
            "23       1999-2000  32000  55200  116900  64400   2550  147450  45000  149300   \n",
            "24         2001-05  27860  61360   89800  40140   6040  126460  42000  138020   \n",
            "25         2006-10    880  53780  107680  46940  13780  106180  42140  134980   \n",
            "26         2011-15      0  34460  110960  47180   8040   89920  17200  208160   \n",
            "27         2016-20   3600  36320   72460  32080   4480   93340  13780  203360   \n",
            "\n",
            "state    NH   ...     PA    RI      SC      VA     VT    WV        AF  \\\n",
            "13     12700  ...   64700     0  102700  104400      0  3700  1089700   \n",
            "14     13200  ...   75600     0  108200  124200  41700  5000  1215900   \n",
            "15         0  ...   65600     0   91800   98700      0     0   992000   \n",
            "16         0  ...   43200     0   65000   85800  17200  2600   839300   \n",
            "17         0  ...   52900     0   76800  117200  26200  2500  1047100   \n",
            "18         0  ...   49200     0   77500   94300  25400     0   909100   \n",
            "19         0  ...   45400  4900   69500   80100      0     0   976500   \n",
            "20         0  ...   32600  3300   50100   61700      0     0   823300   \n",
            "21         0  ...   31800     0   31700   81800      0     0   600900   \n",
            "22     11800  ...   45400     0   36300   96400      0     0   759300   \n",
            "23         0  ...   93700   200   73450   97050      0   500  1210300   \n",
            "24         0  ...  123880     0   57280  115720      0     0  1128680   \n",
            "25      6280  ...  105300     0   88740  112900  17260     0  1110000   \n",
            "26      8300  ...   67420     0   92180  104060  11780  2260  1019180   \n",
            "27         0  ...   42380  1640   61120   87020  10320   500   871380   \n",
            "\n",
            "state       MF       PF       CF  \n",
            "13     6269700  2964300  2717200  \n",
            "14     5403800  2847400  2343200  \n",
            "15     5091400  2403300  2243100  \n",
            "16     4145400  2510600  1906500  \n",
            "17     4180900  2796900  1999300  \n",
            "18     4365600  2770600  2057600  \n",
            "19     3478100  2682800  2118500  \n",
            "20     3251200  2628200  1739600  \n",
            "21     3183000  2461000  1984100  \n",
            "22     2657500  2226800  1576100  \n",
            "23     6142300  2640850  2806600  \n",
            "24     4767380  2393380  2189920  \n",
            "25     5186400  2914700  1892140  \n",
            "26     5407660  2784540  2344060  \n",
            "27     3691760  2667900  1979820  \n",
            "\n",
            "[15 rows x 22 columns]\n"
          ]
        }
      ]
    }
  ]
}