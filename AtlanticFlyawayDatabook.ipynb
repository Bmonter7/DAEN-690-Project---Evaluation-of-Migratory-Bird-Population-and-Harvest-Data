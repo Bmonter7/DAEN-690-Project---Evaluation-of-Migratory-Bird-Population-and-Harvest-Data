{
  "cells": [
    {
      "cell_type": "markdown",
      "metadata": {
        "id": "view-in-github",
        "colab_type": "text"
      },
      "source": [
        "<a href=\"https://colab.research.google.com/github/gjrsas/DAEN690/blob/main/AtlanticFlyawayDatabook.ipynb\" target=\"_parent\"><img src=\"https://colab.research.google.com/assets/colab-badge.svg\" alt=\"Open In Colab\"/></a>"
      ]
    },
    {
      "cell_type": "code",
      "execution_count": 1,
      "metadata": {
        "id": "Ffis6Nndcyx3",
        "colab": {
          "base_uri": "https://localhost:8080/"
        },
        "outputId": "f0a66cfa-1e72-4f37-cc4d-b2775e596fe5"
      },
      "outputs": [
        {
          "output_type": "stream",
          "name": "stderr",
          "text": [
            "<ipython-input-1-8b37bb7681d1>:11: DtypeWarning: Columns (2) have mixed types. Specify dtype option on import or set low_memory=False.\n",
            "  df = pd.read_csv(url)\n"
          ]
        },
        {
          "output_type": "stream",
          "name": "stdout",
          "text": [
            "(5900720, 21)\n"
          ]
        }
      ],
      "source": [
        "#atlantic flyway databook\n",
        "from google.colab import files\n",
        "from google.colab import drive\n",
        "import pandas as pd\n",
        "import numpy as np\n",
        "import matplotlib.pyplot as plt\n",
        "\n",
        "#File stored in GitHub LFS\n",
        "url = 'https://github.com/gjrsas/DAEN690/raw/main/Data/WingData.csv'\n",
        "\n",
        "df = pd.read_csv(url)\n",
        "print(df.shape)"
      ]
    },
    {
      "cell_type": "code",
      "execution_count": 8,
      "metadata": {
        "colab": {
          "base_uri": "https://localhost:8080/"
        },
        "id": "U9I9PkcLoRHr",
        "outputId": "8d30e947-5543-4e27-f46d-059404800999"
      },
      "outputs": [
        {
          "output_type": "stream",
          "name": "stderr",
          "text": [
            "<ipython-input-8-eefeaea19ec7>:10: SettingWithCopyWarning: \n",
            "A value is trying to be set on a copy of a slice from a DataFrame.\n",
            "Try using .loc[row_indexer,col_indexer] = value instead\n",
            "\n",
            "See the caveats in the documentation: https://pandas.pydata.org/pandas-docs/stable/user_guide/indexing.html#returning-a-view-versus-a-copy\n",
            "  atlantic_df['harvest_weight'] = np.round(atlantic_df['harvest_weight'], -2)\n"
          ]
        },
        {
          "output_type": "stream",
          "name": "stdout",
          "text": [
            "state harvest_year  CT   DE   FL   GA   MA    MD    ME   NC   NH   ...   PA   \\\n",
            "13            2012    0  500    0    0    0     0   300  800    0  ...   500   \n",
            "14            2013    0  600  100    0    0   800   400  300  300  ...  1200   \n",
            "15            2014    0  100  100  100    0   400     0  400    0  ...   100   \n",
            "16            2015    0  100    0    0    0   300     0  200    0  ...   600   \n",
            "17            2016    0  400  200    0    0   100     0    0    0  ...   200   \n",
            "18            2017    0  100    0    0    0   100     0  500    0  ...   400   \n",
            "19            2018  100  200    0    0    0   300   100  100    0  ...   200   \n",
            "20            2019  100  300    0    0    0   200     0  400    0  ...   300   \n",
            "21            2020    0  300  100    0  100   400   400  400    0  ...   100   \n",
            "22            2021    0    0    0    0    0   400   200    0    0  ...     0   \n",
            "23       1999-2000  600  500    0  200  150  1500  1550  400    0  ...  1200   \n",
            "24         2001-05  460  880   80   40   80  1320   880  480    0  ...   940   \n",
            "25         2006-10   60  640  140   40  180  1180   520  520  200  ...  1040   \n",
            "26         2011-15    0  300   40   20   60   420   140  420  140  ...   620   \n",
            "27         2016-20   40  260   60    0   20   220   100  280    0  ...   240   \n",
            "\n",
            "state  RI   SC    VA   VT   WV      AF    MF  PF   CF  \n",
            "13       0    0   500    0  100   4900  2600   0    0  \n",
            "14       0    0  1200  100  200   8100  5300   0    0  \n",
            "15       0  200   500    0    0   3300  1900   0    0  \n",
            "16       0    0   100    0    0   2400  1400   0    0  \n",
            "17       0    0   200  200    0   2000  1400   0    0  \n",
            "18       0    0   300    0    0   2400  1600   0    0  \n",
            "19     100    0   200    0    0   2100   700   0    0  \n",
            "20       0    0   500    0    0   2200  1300   0    0  \n",
            "21       0    0   500    0    0   2500   600   0    0  \n",
            "22       0    0   700    0    0   2800   400   0    0  \n",
            "23       0  250   950    0    0  11500  9000   0    0  \n",
            "24       0  280  1460    0    0  11300  5200   0  200  \n",
            "25       0  660   980   80    0   8920  5280  40  180  \n",
            "26       0  120   620   20   60   4760  3420   0   40  \n",
            "27      20    0   340   40    0   2240  1120   0    0  \n",
            "\n",
            "[15 rows x 22 columns]\n"
          ]
        }
      ],
      "source": [
        "# Filter for Atlantic Flyway from 1999-2021 for the Mallard X Black Duck Hybrid species\n",
        "atlantic_df = df[\n",
        "    (df['flyway_name'] == 'Atlantic Flyway') &\n",
        "    (df['species_name'] == 'Mallard X Black Duck Hybrid') &\n",
        "    (df['harvest_year'] >= 1999) &\n",
        "    (df['harvest_year'] <= 2021)\n",
        "]\n",
        "\n",
        "# Round the harvest_weight to the nearest hundred for Atlantic Flyway\n",
        "atlantic_df['harvest_weight'] = np.round(atlantic_df['harvest_weight'], -2)\n",
        "\n",
        "# Aggregate harvest_weight by year for the Atlantic Flyway\n",
        "atlantic_totals = atlantic_df.groupby(['harvest_year', 'state'])['harvest_weight'].sum().reset_index()\n",
        "# Convert harvest_weight to integers\n",
        "atlantic_totals['harvest_weight'] = atlantic_totals['harvest_weight'].astype(int)\n",
        "#create pivot tables\n",
        "atlantic_pivot = atlantic_totals.pivot(index='harvest_year', columns='state', values='harvest_weight').fillna(0)\n",
        "\n",
        "\n",
        "# Define a function to sum harvest weights by year for a specified flyway\n",
        "def sum_harvest_by_flyway(flyway_name):\n",
        "    flyway_df = df[\n",
        "        (df['flyway_name'] == flyway_name) &\n",
        "        (df['species_name'] == 'Mallard X Black Duck Hybrid') &\n",
        "        (df['harvest_year'] >= 1999) &\n",
        "        (df['harvest_year'] <= 2021)\n",
        "    ].copy()\n",
        "\n",
        "    flyway_df['harvest_weight'] = np.round(flyway_df['harvest_weight'], -2)\n",
        "    yearly_sum = flyway_df.groupby('harvest_year')['harvest_weight'].sum().astype(int)\n",
        "\n",
        "    return yearly_sum\n",
        "\n",
        "# Sum harvest weights for each flyway\n",
        "af_totals = sum_harvest_by_flyway('Atlantic Flyway').astype(int)\n",
        "mf_totals = sum_harvest_by_flyway('Mississippi Flyway').astype(int)\n",
        "pf_totals = sum_harvest_by_flyway('Pacific Flyway').astype(int)\n",
        "cf_totals = sum_harvest_by_flyway('Central Flyway').astype(int)\n",
        "\n",
        "# Merge the totals with the Atlantic Flyway DataFrame\n",
        "atlantic_pivot['AF'] = af_totals\n",
        "atlantic_pivot['MF'] = mf_totals\n",
        "atlantic_pivot['PF'] = pf_totals\n",
        "atlantic_pivot['CF'] = cf_totals\n",
        "\n",
        "# Fill missing values with 0\n",
        "atlantic_pivot.fillna(0, inplace=True)\n",
        "atlantic_pivot = atlantic_pivot.astype(int)\n",
        "\n",
        "# Define the time periods for which you want to calculate averages\n",
        "time_periods = {\n",
        "    '1999-2000': (1999, 2000),\n",
        "    '2001-05': (2001, 2005),\n",
        "    '2006-10': (2006, 2010),\n",
        "    '2011-15': (2011, 2015),\n",
        "    '2016-20': (2016, 2020)\n",
        "}\n",
        "\n",
        "# Ensure 'harvest_year' is a column\n",
        "atlantic_pivot.reset_index(inplace=True)\n",
        "\n",
        "# Sort the data by year first (numeric only)\n",
        "atlantic_pivot['harvest_year'] = atlantic_pivot['harvest_year'].astype(str)\n",
        "numeric_years = atlantic_pivot[atlantic_pivot['harvest_year'].str.isnumeric()].copy()\n",
        "numeric_years['harvest_year'] = numeric_years['harvest_year'].astype(int)\n",
        "numeric_years.sort_values(by='harvest_year', inplace=True)\n",
        "\n",
        "# Calculate averages for each time period and create a DataFrame for them\n",
        "averages_rows = []\n",
        "for label, (start_year, end_year) in time_periods.items():\n",
        "    # Select the data for the time period\n",
        "    period_data = numeric_years[(numeric_years['harvest_year'] >= start_year) & (numeric_years['harvest_year'] <= end_year)]\n",
        "\n",
        "    # Calculate the mean for each column\n",
        "    averages = period_data.mean().round(0).astype(int)  # Round to 0 decimal places\n",
        "    averages['harvest_year'] = label  # Set the label for the averages row\n",
        "    averages_rows.append(averages)\n",
        "\n",
        "# Convert the averages list of series to a DataFrame\n",
        "averages_df = pd.DataFrame(averages_rows)\n",
        "\n",
        "# Concatenate the yearly data with the averages, placing averages after 2021\n",
        "final_df = pd.concat([numeric_years, averages_df], ignore_index=True)\n",
        "\n",
        "# Save the result to a CSV file\n",
        "final_df.to_csv('AF_Mallard_X_Black_Duck_Hybrid.csv', index=False)\n",
        "\n",
        "# Display the DataFrame\n",
        "print(final_df.tail(15))  # Show the last 15 rows to include all averages and the 2021 data"
      ]
    },
    {
      "cell_type": "markdown",
      "source": [
        "# New Section"
      ],
      "metadata": {
        "id": "YAslLuAN7Fwt"
      }
    }
  ],
  "metadata": {
    "colab": {
      "provenance": [],
      "include_colab_link": true
    },
    "kernelspec": {
      "display_name": "Python 3",
      "name": "python3"
    },
    "language_info": {
      "name": "python"
    }
  },
  "nbformat": 4,
  "nbformat_minor": 0
}